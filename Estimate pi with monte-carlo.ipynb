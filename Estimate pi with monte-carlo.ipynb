{
 "cells": [
  {
   "cell_type": "code",
   "execution_count": 79,
   "metadata": {},
   "outputs": [
    {
     "ename": "AttributeError",
     "evalue": "module 'matplotlib.pyplot' has no attribute 'subtitle'",
     "output_type": "error",
     "traceback": [
      "\u001b[1;31m---------------------------------------------------------------------------\u001b[0m",
      "\u001b[1;31mAttributeError\u001b[0m                            Traceback (most recent call last)",
      "\u001b[1;32mUntitled-12.ipynb Cell 1\u001b[0m in \u001b[0;36m<cell line: 81>\u001b[1;34m()\u001b[0m\n\u001b[0;32m     <a href='vscode-notebook-cell:Untitled-12.ipynb?jupyter-notebook#W0sdW50aXRsZWQ%3D?line=77'>78</a>\u001b[0m         plt\u001b[39m.\u001b[39mshow()\n\u001b[0;32m     <a href='vscode-notebook-cell:Untitled-12.ipynb?jupyter-notebook#W0sdW50aXRsZWQ%3D?line=78'>79</a>\u001b[0m     \u001b[39mreturn\u001b[39;00m errors\n\u001b[1;32m---> <a href='vscode-notebook-cell:Untitled-12.ipynb?jupyter-notebook#W0sdW50aXRsZWQ%3D?line=80'>81</a>\u001b[0m errors\u001b[39m=\u001b[39mmonte_carlo_pi(trials)\n\u001b[0;32m     <a href='vscode-notebook-cell:Untitled-12.ipynb?jupyter-notebook#W0sdW50aXRsZWQ%3D?line=81'>82</a>\u001b[0m plt\u001b[39m.\u001b[39mplot(trials,errors)\n\u001b[0;32m     <a href='vscode-notebook-cell:Untitled-12.ipynb?jupyter-notebook#W0sdW50aXRsZWQ%3D?line=82'>83</a>\u001b[0m plt\u001b[39m.\u001b[39mshow()\n",
      "\u001b[1;32mUntitled-12.ipynb Cell 1\u001b[0m in \u001b[0;36mmonte_carlo_pi\u001b[1;34m(trials)\u001b[0m\n\u001b[0;32m     <a href='vscode-notebook-cell:Untitled-12.ipynb?jupyter-notebook#W0sdW50aXRsZWQ%3D?line=73'>74</a>\u001b[0m p\u001b[39m=\u001b[39mPiEstimation(n_trials) \u001b[39m#call PiEstimation class\u001b[39;00m\n\u001b[0;32m     <a href='vscode-notebook-cell:Untitled-12.ipynb?jupyter-notebook#W0sdW50aXRsZWQ%3D?line=74'>75</a>\u001b[0m plt\u001b[39m.\u001b[39msubplot(rows,columns,idx\u001b[39m+\u001b[39m\u001b[39m1\u001b[39m)\n\u001b[1;32m---> <a href='vscode-notebook-cell:Untitled-12.ipynb?jupyter-notebook#W0sdW50aXRsZWQ%3D?line=75'>76</a>\u001b[0m pi,error\u001b[39m=\u001b[39mp\u001b[39m.\u001b[39;49mestimate_pi(plot\u001b[39m=\u001b[39;49m\u001b[39mFalse\u001b[39;49;00m)\n\u001b[0;32m     <a href='vscode-notebook-cell:Untitled-12.ipynb?jupyter-notebook#W0sdW50aXRsZWQ%3D?line=76'>77</a>\u001b[0m errors\u001b[39m.\u001b[39mappend(error)\n\u001b[0;32m     <a href='vscode-notebook-cell:Untitled-12.ipynb?jupyter-notebook#W0sdW50aXRsZWQ%3D?line=77'>78</a>\u001b[0m plt\u001b[39m.\u001b[39mshow()\n",
      "\u001b[1;32mUntitled-12.ipynb Cell 1\u001b[0m in \u001b[0;36mPiEstimation.estimate_pi\u001b[1;34m(self, plot)\u001b[0m\n\u001b[0;32m     <a href='vscode-notebook-cell:Untitled-12.ipynb?jupyter-notebook#W0sdW50aXRsZWQ%3D?line=41'>42</a>\u001b[0m     plt\u001b[39m.\u001b[39mtitle(\u001b[39m\"\u001b[39m\u001b[39m# of trials: \u001b[39m\u001b[39m{}\u001b[39;00m\u001b[39m,\u001b[39m\u001b[39m\\n\u001b[39;00m\u001b[39mError is: \u001b[39m\u001b[39m{}\u001b[39;00m\u001b[39m\"\u001b[39m\u001b[39m.\u001b[39mformat(\u001b[39mself\u001b[39m\u001b[39m.\u001b[39mn_trials,error),size\u001b[39m=\u001b[39m\u001b[39m12\u001b[39m, family\u001b[39m=\u001b[39m\u001b[39m'\u001b[39m\u001b[39mserif\u001b[39m\u001b[39m'\u001b[39m,position\u001b[39m=\u001b[39m(\u001b[39m0.5\u001b[39m,\u001b[39m1.1\u001b[39m))\n\u001b[0;32m     <a href='vscode-notebook-cell:Untitled-12.ipynb?jupyter-notebook#W0sdW50aXRsZWQ%3D?line=42'>43</a>\u001b[0m \u001b[39melse\u001b[39;00m: \n\u001b[1;32m---> <a href='vscode-notebook-cell:Untitled-12.ipynb?jupyter-notebook#W0sdW50aXRsZWQ%3D?line=43'>44</a>\u001b[0m     plt\u001b[39m.\u001b[39;49msubtitle(\u001b[39m\"\u001b[39m\u001b[39mPi Estimation based on \u001b[39m\u001b[39m{}\u001b[39;00m\u001b[39m trials is: \u001b[39m\u001b[39m{}\u001b[39;00m\u001b[39m,\u001b[39m\u001b[39m\\n\u001b[39;00m\u001b[39mReal pi is 3.14159265\u001b[39m\u001b[39m\\n\u001b[39;00m\u001b[39mError is: \u001b[39m\u001b[39m{}\u001b[39;00m\u001b[39m\"\u001b[39m\u001b[39m.\u001b[39mformat(\u001b[39mself\u001b[39m\u001b[39m.\u001b[39mn_trials,pi,error),size\u001b[39m=\u001b[39m\u001b[39m12\u001b[39m, family\u001b[39m=\u001b[39m\u001b[39m'\u001b[39m\u001b[39mserif\u001b[39m\u001b[39m'\u001b[39m,position\u001b[39m=\u001b[39m(\u001b[39m0.5\u001b[39m,\u001b[39m1.1\u001b[39m))\n\u001b[0;32m     <a href='vscode-notebook-cell:Untitled-12.ipynb?jupyter-notebook#W0sdW50aXRsZWQ%3D?line=45'>46</a>\u001b[0m \u001b[39mreturn\u001b[39;00m pi,error\n",
      "\u001b[1;31mAttributeError\u001b[0m: module 'matplotlib.pyplot' has no attribute 'subtitle'"
     ]
    },
    {
     "data": {
      "image/png": "[encoded data removed]",
      "text/plain": [
       "<Figure size 2160x1080 with 1 Axes>"
      ]
     },
     "metadata": {
      "needs_background": "light"
     },
     "output_type": "display_data"
    }
   ],
   "source": [
    "import numpy as np\n",
    "import random\n",
    "import matplotlib.pyplot as plt\n",
    "\n",
    "class PiEstimation():\n",
    "    def __init__(self,n_trials):\n",
    "        self.n_trials=n_trials\n",
    "\n",
    "    def classify_point(self,x,y):\n",
    "        return True if (pow(x,2)+ pow(y,2))<=1 else False \n",
    "\n",
    "    def estimate_pi(self,plot=False):\n",
    "        circle_points=0\n",
    "        real_pi=3.14159265\n",
    "        points=[]\n",
    "        results=[]\n",
    "\n",
    "        for i in range (self.n_trials):\n",
    "            x=random.uniform(-1,1)\n",
    "            y=random.uniform(-1,1)\n",
    "            if self.classify_point(x,y) is True:\n",
    "                circle_points+=1\n",
    "                r= 1\n",
    "            else:\n",
    "                r= 0\n",
    "            cords=(x,y)\n",
    "            points.append(cords)\n",
    "            results.append(r)\n",
    "        \n",
    "        '''pi formula:\n",
    "        area of circle= pi*pow(r,2)\n",
    "        aera of a square=pow(2*r,2)==> 4*pow(r,2)\n",
    "\n",
    "        area of circle/aera of a square = pi*pow(r,2)/4*pow(r,2) ==>pi/4\n",
    "        pi=4*(area of circle/aera of a square)\n",
    "        '''\n",
    "        pi=4*(circle_points/self.n_trials)\n",
    "        error=np.round(abs(pi-real_pi),4)\n",
    "        colors=['red','blue']\n",
    "\n",
    "        if plot is True:\n",
    "            for (x, y), label in zip(points, results):\n",
    "                plt.scatter(x, y, color=colors[label])\n",
    "            plt.Circle((0,0),radius=1,fill=False, color=\"green\", linewidth=20)\n",
    "            plt.title(\"# of trials: {},\\nError is: {}\".format(self.n_trials,error),size=12, family='serif',position=(0.5,1.1))\n",
    "        else: \n",
    "            plt.subtitle(\"Pi Estimation based on {} trials is: {},\\nReal pi is 3.14159265\\nError is: {}\".format(self.n_trials,pi,error),size=12, family='serif',position=(0.5,1.1))\n",
    "\n",
    "        return pi,error\n",
    "\n",
    "# ===========================  Check single trial number: ===========================\n",
    "# n_trials=150\n",
    "# p=PiEstimation(n_trials)\n",
    "# pi,error=p.estimate_pi(plot=True)\n",
    "# print(\"Pi Estimation based on {} trials is: {},real pi is 3.14159265\\nError is: {}\".format(n_trials,pi,error))\n",
    "\n",
    "\n",
    "#Check Multiple trials numbers:\n",
    "\n",
    "# ===========================  create number of trials list:  ===========================\n",
    "interval=10\n",
    "trials=[]\n",
    "for i in range (0,6):\n",
    "    interval+=10\n",
    "    trials.append(int(interval))\n",
    "\n",
    "def monte_carlo_pi(trials):\n",
    "    errors=[]\n",
    "    columns=3\n",
    "    rows=int(np.ceil(len(trials)/columns))\n",
    "    plt.figure(figsize=(rows*15,columns*5))\n",
    "    plt.xlim=([-1,1])\n",
    "    plt.ylim=([-1,1])\n",
    "\n",
    "    for idx,n_trials in enumerate(trials):\n",
    "        real_pi=3.14159265\n",
    "        p=PiEstimation(n_trials) #call PiEstimation class\n",
    "        plt.subplot(rows,columns,idx+1)\n",
    "        pi,error=p.estimate_pi(plot=False)\n",
    "        errors.append(error)\n",
    "        plt.show()\n",
    "    return errors\n",
    "\n",
    "errors=monte_carlo_pi(trials)\n",
    "plt.plot(trials,errors)\n",
    "plt.show()"
   ]
  }
 ],
 "metadata": {
  "kernelspec": {
   "display_name": "base",
   "language": "python",
   "name": "python3"
  },
  "language_info": {
   "codemirror_mode": {
    "name": "ipython",
    "version": 3
   },
   "file_extension": ".py",
   "mimetype": "text/x-python",
   "name": "python",
   "nbconvert_exporter": "python",
   "pygments_lexer": "ipython3",
   "version": "3.9.12"
  },
  "orig_nbformat": 4
 },
 "nbformat": 4,
 "nbformat_minor": 2
}
